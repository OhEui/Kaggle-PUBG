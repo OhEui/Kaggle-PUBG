{
 "cells": [
  {
   "cell_type": "code",
   "execution_count": 8,
   "metadata": {},
   "outputs": [],
   "source": [
    "import numpy as np\n",
    "import pandas as pd\n",
    "import matplotlib.pyplot as plt\n",
    "import seaborn as sns\n",
    "import warnings\n",
    "import xgboost as xgb\n",
    "import statsmodels.api as sm\n",
    "\n",
    "from sklearn.model_selection import train_test_split\n",
    "from sklearn.model_selection import cross_val_score\n",
    "\n",
    "from sklearn.metrics import mean_squared_error \n",
    "from sklearn.metrics import mean_absolute_error \n",
    "\n",
    "from sklearn.tree import DecisionTreeRegressor\n",
    "from sklearn.ensemble import RandomForestRegressor"
   ]
  },
  {
   "cell_type": "markdown",
   "metadata": {},
   "source": [
    "- sample data 불러오기"
   ]
  },
  {
   "cell_type": "code",
   "execution_count": 17,
   "metadata": {},
   "outputs": [],
   "source": [
    "base_path = 'C:/Users/hojun/Documents/dev/Kaggle-PUBG/'\n",
    "sample_train = pd.read_csv(base_path + 'sample_train.csv')"
   ]
  },
  {
   "cell_type": "code",
   "execution_count": 18,
   "metadata": {},
   "outputs": [],
   "source": [
    "x = sample_train.drop(columns=['winPlacePerc', 'matchId', 'groupId', 'Unnamed: 0']).copy()\n",
    "y = sample_train['winPlacePerc']"
   ]
  },
  {
   "cell_type": "code",
   "execution_count": 6,
   "metadata": {},
   "outputs": [],
   "source": [
    "x.maptype = x.maptype.astype(float)"
   ]
  },
  {
   "cell_type": "markdown",
   "metadata": {},
   "source": [
    "- test data 불러오기"
   ]
  },
  {
   "cell_type": "code",
   "execution_count": 20,
   "metadata": {},
   "outputs": [],
   "source": [
    "test_data = pd.read_csv(base_path + 'test_V2.csv')"
   ]
  },
  {
   "cell_type": "markdown",
   "metadata": {},
   "source": [
    "- test data 정리하기"
   ]
  },
  {
   "cell_type": "code",
   "execution_count": 21,
   "metadata": {},
   "outputs": [],
   "source": [
    "# add match_type_numerical\n",
    "def divide_match_type(x):\n",
    "    if x.find('solo') != -1:\n",
    "        return 0\n",
    "    elif x.find('duo') != -1:\n",
    "        return 1\n",
    "    else:\n",
    "        return 2\n",
    "\n",
    "test_data['match_type_numerical'] = test_data['matchType'].apply(lambda x : divide_match_type(x) )\n",
    "\n",
    "# add maptype\n",
    "test_data['maptype'] = test_data['matchDuration'].apply(lambda x : 0 if x<1600 else 1)\n",
    "\n",
    "# add team members\n",
    "test_data['team_members'] = test_data.groupby('groupId').Id.transform('count')\n",
    "\n",
    "# drop colums\n",
    "drop_columns = ['killStreaks','headshotKills', 'assists', 'matchDuration','matchType', 'matchId', 'groupId', 'Id', 'swimDistance', 'vehicleDestroys', 'roadKills', 'DBNOs', 'revives', 'teamKills','killPoints', 'winPoints', 'rankPoints', 'numGroups' ]\n",
    "test_data = test_data.drop(columns=drop_columns).copy()"
   ]
  },
  {
   "cell_type": "markdown",
   "metadata": {},
   "source": [
    "- split"
   ]
  },
  {
   "cell_type": "code",
   "execution_count": 24,
   "metadata": {},
   "outputs": [],
   "source": [
    "X_train, X_test, y_train, y_test = train_test_split( x, y, test_size=0.2, random_state=42)"
   ]
  },
  {
   "cell_type": "markdown",
   "metadata": {},
   "source": [
    "## DecisionTreeRegressor"
   ]
  },
  {
   "cell_type": "code",
   "execution_count": 25,
   "metadata": {},
   "outputs": [
    {
     "data": {
      "text/plain": [
       "87.43"
      ]
     },
     "execution_count": 25,
     "metadata": {},
     "output_type": "execute_result"
    }
   ],
   "source": [
    "dt_model = DecisionTreeRegressor(random_state=0).fit(X_train, y_train)\n",
    "df_score = dt_model.score(X_test, y_test) * 100\n",
    "np.round(df_score, 2)"
   ]
  },
  {
   "cell_type": "markdown",
   "metadata": {},
   "source": [
    "- k-fold cross validation score"
   ]
  },
  {
   "cell_type": "code",
   "execution_count": 26,
   "metadata": {},
   "outputs": [
    {
     "data": {
      "text/plain": [
       "(0.8664710123483198, 2.319317999897107e-05)"
      ]
     },
     "execution_count": 26,
     "metadata": {},
     "output_type": "execute_result"
    }
   ],
   "source": [
    "scores = cross_val_score(dt_model, X_test, y_test, cv=10)\n",
    "scores.mean(), scores.var()"
   ]
  },
  {
   "cell_type": "markdown",
   "metadata": {},
   "source": [
    "- MAE"
   ]
  },
  {
   "cell_type": "code",
   "execution_count": 27,
   "metadata": {},
   "outputs": [
    {
     "data": {
      "text/plain": [
       "0.07586144782544446"
      ]
     },
     "execution_count": 27,
     "metadata": {},
     "output_type": "execute_result"
    }
   ],
   "source": [
    "y_pred_xgb = dt_model.predict(X_test)\n",
    "mean_absolute_error(y_test, y_pred_xgb)"
   ]
  },
  {
   "cell_type": "markdown",
   "metadata": {},
   "source": [
    "## RandomForestRegressor"
   ]
  },
  {
   "cell_type": "markdown",
   "metadata": {},
   "source": [
    "- RandomForestRegressor(\n",
    "    - n_estimators=100, *, criterion=\"squared_error\", \n",
    "\n",
    "        max_depth=None, min_samples_split=2, \n",
    "    \n",
    "        min_samples_leaf=1, min_weight_fraction_leaf=0, \n",
    "    \n",
    "        max_features=\"auto\", max_leaf_nodes=None, \n",
    "    \n",
    "        min_impurity_decrease=0, bootstrap=True, \n",
    "    \n",
    "        oob_score=False, n_jobs=None, \n",
    "    \n",
    "        random_state=None, verbose=0, \n",
    "        \n",
    "        warm_start=False, ccp_alpha=0, \n",
    "        \n",
    "        max_samples=None   )"
   ]
  },
  {
   "cell_type": "code",
   "execution_count": 28,
   "metadata": {},
   "outputs": [
    {
     "data": {
      "text/plain": [
       "93.79"
      ]
     },
     "execution_count": 28,
     "metadata": {},
     "output_type": "execute_result"
    }
   ],
   "source": [
    "rf_model = RandomForestRegressor(random_state=0).fit(X_train, y_train)\n",
    "rf_score = rf_model.score(X_test, y_test) * 100\n",
    "np.round(rf_score, 2)"
   ]
  },
  {
   "cell_type": "markdown",
   "metadata": {},
   "source": [
    "- k-fold cross validation score\n",
    "    - 분산이 크면 데이터에 따라서 모델의 정확도 차이가 크므로 과적합의 위험이 크다."
   ]
  },
  {
   "cell_type": "code",
   "execution_count": null,
   "metadata": {},
   "outputs": [],
   "source": [
    "cv_scores = cross_val_score(rf_model, X_test, y_test, cv=10)\n",
    "cv_scores.mean(), cv_scores.var()"
   ]
  },
  {
   "cell_type": "markdown",
   "metadata": {},
   "source": [
    "- MAE"
   ]
  },
  {
   "cell_type": "code",
   "execution_count": null,
   "metadata": {},
   "outputs": [
    {
     "data": {
      "text/plain": [
       "0.005498396425221854"
      ]
     },
     "metadata": {},
     "output_type": "display_data"
    }
   ],
   "source": [
    "y_pred_rf = rf_model.predict(X_test)\n",
    "print('MAE :', mean_absolute_error(y_test, y_pred_rf))"
   ]
  },
  {
   "cell_type": "markdown",
   "metadata": {},
   "source": [
    "- max_features : sqrt"
   ]
  },
  {
   "cell_type": "code",
   "execution_count": null,
   "metadata": {},
   "outputs": [],
   "source": [
    "rf = RandomForestRegressor(n_estimators=100, random_state=0, max_features='sqrt')\n",
    "rf.fit(X_train, y_train)\n",
    "y_pred_rf = rf.predict(X_test)\n",
    "\n",
    "print('tarin score : ', rf.score(X_train, y_train), '\\t','test score :', rf.score(X_test, y_test))\n",
    "print('MAE :', mean_absolute_error(y_test, y_pred_rf))"
   ]
  },
  {
   "cell_type": "markdown",
   "metadata": {},
   "source": [
    "- leaf node size(마지막 노드 갯수) : 100"
   ]
  },
  {
   "cell_type": "code",
   "execution_count": null,
   "metadata": {},
   "outputs": [],
   "source": [
    "rf = RandomForestRegressor(n_estimators=100, random_state=0, max_features='sqrt', max_leaf_nodes=100)\n",
    "rf.fit(X_train, y_train)\n",
    "y_pred_rf = rf.predict(X_test)\n",
    "\n",
    "print('tarin score : ', rf.score(X_train, y_train), '\\t','test score :', rf.score(X_test, y_test))\n",
    "print('MAE :', mean_absolute_error(y_test, y_pred_rf))"
   ]
  },
  {
   "cell_type": "markdown",
   "metadata": {},
   "source": [
    "- oob score : True"
   ]
  },
  {
   "cell_type": "code",
   "execution_count": null,
   "metadata": {},
   "outputs": [],
   "source": [
    "# oob score\n",
    "rf = RandomForestRegressor(n_estimators=100,random_state=0,\n",
    "                           max_features='sqrt',max_leaf_nodes=100,\n",
    "                           oob_score=True)\n",
    "                           \n",
    "rf.fit(X_train, y_train)\n",
    "print('tarin score : ', rf.score(X_train, y_train), '\\t','test score :', rf.score(X_test, y_test))\n",
    "print('MAE :', mean_absolute_error(y_test, y_pred_rf))\n",
    "\n",
    "# out-of-bag score 낮을수록 좋다.\n",
    "print(rf.oob_score_)"
   ]
  },
  {
   "cell_type": "code",
   "execution_count": null,
   "metadata": {},
   "outputs": [],
   "source": [
    "# parameter tuning using oob scores\n",
    "tree_size = np.arange(2, 50, 2)\n",
    "s = np.zeros((len(tree_size),4))\n",
    "\n",
    "for i in range(len(tree_size)):\n",
    "    rf = RandomForestRegressor(n_estimators=100, random_state=0,\n",
    "                           max_features='sqrt', max_leaf_nodes=tree_size[i],\n",
    "                           oob_score=True)\n",
    "    rf.fit(X_train, y_train)\n",
    "    s[i,0] = rf.score(X_train, y_train)\n",
    "    s[i,1] = rf.oob_score_ \n",
    "    s[i,2] = cross_val_score(rf,X_train, y_train, cv=5).mean()\n",
    "    s[i,3] = rf.score(X_test, y_test)\n",
    "\n",
    "plt.plot(tree_size, s)"
   ]
  }
 ],
 "metadata": {
  "kernelspec": {
   "display_name": "Python 3.8.13 ('fastcampus')",
   "language": "python",
   "name": "python3"
  },
  "language_info": {
   "codemirror_mode": {
    "name": "ipython",
    "version": 3
   },
   "file_extension": ".py",
   "mimetype": "text/x-python",
   "name": "python",
   "nbconvert_exporter": "python",
   "pygments_lexer": "ipython3",
   "version": "3.8.13"
  },
  "orig_nbformat": 4,
  "vscode": {
   "interpreter": {
    "hash": "f1bc8e131a8961338071b32906c6ca471a9a7afbc2f7dc6722a73b8dea7d4105"
   }
  }
 },
 "nbformat": 4,
 "nbformat_minor": 2
}
